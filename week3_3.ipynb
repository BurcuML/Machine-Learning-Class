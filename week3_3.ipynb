{
  "nbformat": 4,
  "nbformat_minor": 0,
  "metadata": {
    "colab": {
      "name": "week3-3.ipynb",
      "provenance": [],
      "authorship_tag": "ABX9TyMnaNxeBtAHqKHU+wGMXcAY",
      "include_colab_link": true
    },
    "kernelspec": {
      "name": "python3",
      "display_name": "Python 3"
    },
    "language_info": {
      "name": "python"
    }
  },
  "cells": [
    {
      "cell_type": "markdown",
      "metadata": {
        "id": "view-in-github",
        "colab_type": "text"
      },
      "source": [
        "<a href=\"https://colab.research.google.com/github/BurcuML/Machine-Learning-Class/blob/main/week3_3.ipynb\" target=\"_parent\"><img src=\"https://colab.research.google.com/assets/colab-badge.svg\" alt=\"Open In Colab\"/></a>"
      ]
    },
    {
      "cell_type": "code",
      "execution_count": 1,
      "metadata": {
        "id": "IV9lPkPwrsko"
      },
      "outputs": [],
      "source": [
        "import numpy as np\n",
        "import matplotlib.pyplot as plt"
      ]
    },
    {
      "cell_type": "code",
      "source": [
        "from sklearn.datasets import make_multilabel_classification as make_ml_clf\n",
        "\n",
        "COLORS = np.array(\n",
        "    [\n",
        "        \"!\",\n",
        "        \"#FF3333\",  # red\n",
        "        \"#0198E1\",  # blue\n",
        "        \"#BF5FFF\",  # purple\n",
        "        \"#FCD116\",  # yellow\n",
        "        \"#FF7216\",  # orange\n",
        "        \"#4DBD33\",  # green\n",
        "        \"#87421F\",  # brown\n",
        "    ]\n",
        ")"
      ],
      "metadata": {
        "id": "xjr0duPEuTyW"
      },
      "execution_count": 2,
      "outputs": []
    },
    {
      "cell_type": "code",
      "source": [
        "RANDOM_SEED = np.random.randint(2**10)"
      ],
      "metadata": {
        "id": "PbnrYQ5guXe0"
      },
      "execution_count": 3,
      "outputs": []
    },
    {
      "cell_type": "code",
      "source": [
        "def plot_2d(ax, n_labels=1, n_classes=3, length=50):\n",
        "    X, Y, p_c, p_w_c = make_ml_clf(\n",
        "        n_samples=150,\n",
        "        n_features=2,\n",
        "        n_classes=n_classes,\n",
        "        n_labels=n_labels,\n",
        "        length=length,\n",
        "        allow_unlabeled=False,\n",
        "        return_distributions=True,\n",
        "        random_state=RANDOM_SEED,\n",
        "    )\n",
        "    ax.scatter(\n",
        "        X[:, 0], X[:, 1], color=COLORS.take((Y * [1, 2, 4]).sum(axis=1)), marker=\".\"\n",
        "    )\n",
        "    ax.scatter(\n",
        "        p_w_c[0] * length,\n",
        "        p_w_c[1] * length,\n",
        "        marker=\"*\",\n",
        "        linewidth=0.5,\n",
        "        edgecolor=\"black\",\n",
        "        s=20 + 1500 * p_c**2,\n",
        "        color=COLORS.take([1, 2, 4]),\n",
        "    )\n",
        "    ax.set_xlabel(\"Feature 0 count\")\n",
        "    return p_c, p_w_c"
      ],
      "metadata": {
        "id": "DTIrIO1VubLU"
      },
      "execution_count": 6,
      "outputs": []
    },
    {
      "cell_type": "code",
      "source": [
        " _, (ax1, ax2) = plt.subplots(1, 2, sharex=\"row\", sharey=\"row\", figsize=(8, 4))\n",
        "plt.subplots_adjust(bottom=0.15)"
      ],
      "metadata": {
        "colab": {
          "base_uri": "https://localhost:8080/",
          "height": 262
        },
        "id": "CrL3hAvSujas",
        "outputId": "65472e2c-3f6d-45e2-b4bd-a14680b2d63d"
      },
      "execution_count": 7,
      "outputs": [
        {
          "output_type": "display_data",
          "data": {
            "text/plain": [
              "<Figure size 576x288 with 2 Axes>"
            ],
            "image/png": "[encoded data removed]"
          },
          "metadata": {
            "needs_background": "light"
          }
        }
      ]
    },
    {
      "cell_type": "code",
      "source": [
        "p_c, p_w_c = plot_2d(ax1, n_labels=1)\n",
        "ax1.set_title(\"n_labels=1, length=50\")\n",
        "ax1.set_ylabel(\"Feature 1 count\")"
      ],
      "metadata": {
        "colab": {
          "base_uri": "https://localhost:8080/"
        },
        "id": "WxRhwWplux0M",
        "outputId": "5bb6d282-037a-4c74-ef3d-32ea90683e77"
      },
      "execution_count": 8,
      "outputs": [
        {
          "output_type": "execute_result",
          "data": {
            "text/plain": [
              "Text(3.200000000000003, 0.5, 'Feature 1 count')"
            ]
          },
          "metadata": {},
          "execution_count": 8
        }
      ]
    },
    {
      "cell_type": "code",
      "source": [
        "plot_2d(ax2, n_labels=3)\n",
        "ax2.set_title(\"n_labels=3, length=50\")\n",
        "ax2.set_xlim(left=0, auto=True)\n",
        "ax2.set_ylim(bottom=0, auto=True)\n",
        "plt.show()"
      ],
      "metadata": {
        "colab": {
          "base_uri": "https://localhost:8080/"
        },
        "id": "WZRzXCZNu02c",
        "outputId": "bf2b190a-bbd3-47c5-d2e1-9d5c825f76cb"
      },
      "execution_count": 9,
      "outputs": [
        {
          "output_type": "execute_result",
          "data": {
            "text/plain": [
              "(0.0, 62.1)"
            ]
          },
          "metadata": {},
          "execution_count": 9
        }
      ]
    },
    {
      "cell_type": "code",
      "source": [
        "print(\"The data was generated from (random_state=%d):\" % RANDOM_SEED)\n",
        "print(\"Class\", \"P(C)\", \"P(w0|C)\", \"P(w1|C)\", sep=\"\\t\")\n",
        "for k, p, p_w in zip([\"red\", \"blue\", \"yellow\"], p_c, p_w_c.T):\n",
        "    print(\"%s\\t%0.2f\\t%0.2f\\t%0.2f\" % (k, p, p_w[0], p_w[1]))"
      ],
      "metadata": {
        "colab": {
          "base_uri": "https://localhost:8080/"
        },
        "id": "E7uJGFc3u3zr",
        "outputId": "054dd94c-0eef-4d23-99e1-bd9af9eebf0b"
      },
      "execution_count": 10,
      "outputs": [
        {
          "output_type": "stream",
          "name": "stdout",
          "text": [
            "The data was generated from (random_state=755):\n",
            "Class\tP(C)\tP(w0|C)\tP(w1|C)\n",
            "red\t0.42\t0.34\t0.66\n",
            "blue\t0.25\t0.29\t0.71\n",
            "yellow\t0.33\t0.09\t0.91\n"
          ]
        }
      ]
    }
  ]
}